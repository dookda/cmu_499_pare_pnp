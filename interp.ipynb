{
 "cells": [
  {
   "cell_type": "code",
   "execution_count": null,
   "id": "2648ccd7",
   "metadata": {},
   "outputs": [
    {
     "name": "stdout",
     "output_type": "stream",
     "text": [
      "Saved: interpolated_surface_epsg32647.tif\n"
     ]
    }
   ],
   "source": [
    "import numpy as np\n",
    "import pandas as pd\n",
    "from scipy.interpolate import griddata\n",
    "\n",
    "# OPTIONAL (recommended for geospatial): project to a metric CRS\n",
    "from pyproj import Transformer\n",
    "\n",
    "# OPTIONAL (export): write a GeoTIFF with a CRS\n",
    "import xarray as xr\n",
    "import rioxarray  # noqa\n",
    "\n",
    "# -------------------------------\n",
    "# 1) Load data: lon, lat, value\n",
    "# -------------------------------\n",
    "# Example DataFrame; replace with your own data source\n",
    "df = pd.DataFrame({\n",
    "    \"lon\": [98.95, 99.10, 99.25, 99.40, 99.55],\n",
    "    \"lat\": [18.65, 18.70, 18.80, 18.75, 18.90],\n",
    "    \"val\": [25.1, 28.3, 27.2, 29.5, 26.8]\n",
    "})\n",
    "\n",
    "# -------------------------------\n",
    "# 2) Project coordinates to a projected CRS (meters)\n",
    "#    Example: UTM zone 47N for Northern Thailand → EPSG:32647\n",
    "# -------------------------------\n",
    "to_utm = Transformer.from_crs(\"EPSG:4326\", \"EPSG:32647\", always_xy=True)\n",
    "x_m, y_m = to_utm.transform(df[\"lon\"].values, df[\"lat\"].values)\n",
    "\n",
    "# -------------------------------\n",
    "# 3) Build interpolation grid in projected coordinates\n",
    "#    Define desired resolution (e.g., 500 m per pixel)\n",
    "# -------------------------------\n",
    "res = 500.0  # meters\n",
    "xmin, xmax = x_m.min(), x_m.max()\n",
    "ymin, ymax = y_m.min(), y_m.max()\n",
    "\n",
    "# Add small padding\n",
    "pad = 2 * res\n",
    "xmin, xmax = xmin - pad, xmax + pad\n",
    "ymin, ymax = ymin - pad, ymax + pad\n",
    "\n",
    "# Create regular grid\n",
    "x_coords = np.arange(xmin, xmax + res, res)\n",
    "y_coords = np.arange(ymin, ymax + res, res)\n",
    "gx, gy = np.meshgrid(x_coords, y_coords)\n",
    "\n",
    "# -------------------------------\n",
    "# 4) Interpolate with SciPy\n",
    "# -------------------------------\n",
    "points = np.c_[x_m, y_m]\n",
    "values = df[\"val\"].values\n",
    "\n",
    "# Choose method: 'linear' (robust), 'cubic' (smooth, needs denser points), or 'nearest'\n",
    "grid_linear = griddata(points, values, (gx, gy), method='cubic')\n",
    "\n",
    "# Optional: fill NaNs (outside convex hull) using nearest as a fallback\n",
    "grid_nearest = griddata(points, values, (gx, gy), method='nearest')\n",
    "grid_filled = np.where(np.isnan(grid_linear), grid_nearest, grid_linear)\n",
    "\n",
    "# -------------------------------\n",
    "# 5) (Optional) Export to GeoTIFF with CRS using xarray/rioxarray\n",
    "# -------------------------------\n",
    "# y/x → note that rasters conventionally index [row, col] as [y, x]\n",
    "da = xr.DataArray(\n",
    "    grid_filled,\n",
    "    coords={\"y\": y_coords, \"x\": x_coords},\n",
    "    dims=(\"y\", \"x\"),\n",
    "    name=\"interpolated\"\n",
    ")\n",
    "\n",
    "# Write CRS and transform; for evenly spaced grid, rioxarray infers transform from coords\n",
    "da = da.rio.write_crs(\"EPSG:32647\")\n",
    "da.rio.to_raster(\"interpolated_surface_epsg32647.tif\")\n",
    "\n",
    "print(\"Saved: interpolated_surface_epsg32647.tif\")\n"
   ]
  }
 ],
 "metadata": {
  "kernelspec": {
   "display_name": "geoai",
   "language": "python",
   "name": "python3"
  },
  "language_info": {
   "codemirror_mode": {
    "name": "ipython",
    "version": 3
   },
   "file_extension": ".py",
   "mimetype": "text/x-python",
   "name": "python",
   "nbconvert_exporter": "python",
   "pygments_lexer": "ipython3",
   "version": "3.13.5"
  }
 },
 "nbformat": 4,
 "nbformat_minor": 5
}
